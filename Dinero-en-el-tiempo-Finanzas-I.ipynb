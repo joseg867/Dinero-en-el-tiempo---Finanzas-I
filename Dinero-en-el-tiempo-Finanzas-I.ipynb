{
 "cells": [
  {
   "cell_type": "code",
   "execution_count": 54,
   "metadata": {},
   "outputs": [],
   "source": [
    "%matplotlib inline  "
   ]
  },
  {
   "cell_type": "code",
   "execution_count": 64,
   "metadata": {},
   "outputs": [
    {
     "data": {
      "text/plain": [
       "1191.016"
      ]
     },
     "execution_count": 64,
     "metadata": {},
     "output_type": "execute_result"
    }
   ],
   "source": [
    "\n",
    "\n",
    "# Ejemplo FV con python\n",
    "# $1000 al 6% anual por 3 años.\n",
    "\n",
    "# importando librerías\n",
    "import numpy as np\n",
    "import numpy_financial as npf\n",
    "\n",
    "import matplotlib.pyplot as plt\n",
    "\n",
    "x = -1000  # deposito\n",
    "r = .06    # tasa de interes\n",
    "n = 3      # cantidad de años\n",
    "\n",
    "# usando la funcion fv de numpy\n",
    "FV = npf.fv(pv=x, rate=r, nper=n, pmt=0)\n",
    "FV "
   ]
  },
  {
   "cell_type": "code",
   "execution_count": 58,
   "metadata": {},
   "outputs": [
    {
     "data": {
      "text/plain": [
       "-1191.016"
      ]
     },
     "execution_count": 58,
     "metadata": {},
     "output_type": "execute_result"
    }
   ],
   "source": [
    "x * (1 + r)**n"
   ]
  },
  {
   "cell_type": "code",
   "execution_count": 61,
   "metadata": {},
   "outputs": [],
   "source": [
    "t = list(range(0, 21))\n",
    "\n",
    "def fv6(num):\n",
    "    return npf.fv(pv=-1000, rate=r, pmt=0, nper=num)\n",
    "\n",
    "def fv12(num):\n",
    "    return npf.fv(pv=-1000, rate=.12, pmt=0, nper=num)"
   ]
  },
  {
   "cell_type": "code",
   "execution_count": 62,
   "metadata": {},
   "outputs": [
    {
     "data": {
      "image/png": "[encoded data removed]",
      "text/plain": [
       "<Figure size 432x288 with 1 Axes>"
      ]
     },
     "metadata": {
      "needs_background": "light"
     },
     "output_type": "display_data"
    }
   ],
   "source": [
    "plt.title(\"Graficando FV 6 y 12 %\")\n",
    "plt.plot(t, fv6(t), label=\"interes 6 %\")\n",
    "plt.plot(t, fv12(t), label=\"interes 12 %\")\n",
    "plt.legend(loc='upper left')\n",
    "plt.show()"
   ]
  },
  {
   "cell_type": "code",
   "execution_count": 98,
   "metadata": {},
   "outputs": [
    {
     "name": "stdout",
     "output_type": "stream",
     "text": [
      "The watermark extension is already loaded. To reload it, use:\n",
      "  %reload_ext watermark\n",
      "CPython 3.8.3\n",
      "IPython 7.16.1\n",
      "\n",
      "wget 3.2\n",
      "pandas 1.0.5\n",
      "numpy 1.19.0\n",
      "numpy_financial 1.0.0\n",
      "matplotlib.pyplot 3.2.2\n",
      "watermark 2.0.2\n",
      "\n",
      "compiler   : MSC v.1925 32 bit (Intel)\n",
      "system     : Windows\n",
      "release    : 10\n",
      "machine    : AMD64\n",
      "processor  : Intel64 Family 6 Model 142 Stepping 12, GenuineIntel\n",
      "CPU cores  : 8\n",
      "interpreter: 32bit\n",
      " \n",
      "last updated: Sat Jul 04 2020 23:24:39 Central America Standard Time\n"
     ]
    }
   ],
   "source": [
    "%load_ext watermark\n",
    "\n",
    "%watermark -v -m -p wget,pandas,numpy,numpy_financial,matplotlib.pyplot,watermark\n",
    "\n",
    "#date\n",
    "print (\" \")\n",
    "%watermark -u -n -t -z"
   ]
  },
  {
   "cell_type": "code",
   "execution_count": null,
   "metadata": {},
   "outputs": [],
   "source": []
  }
 ],
 "metadata": {
  "celltoolbar": "Raw Cell Format",
  "kernelspec": {
   "display_name": "Python 3",
   "language": "python",
   "name": "python3"
  },
  "language_info": {
   "codemirror_mode": {
    "name": "ipython",
    "version": 3
   },
   "file_extension": ".py",
   "mimetype": "text/x-python",
   "name": "python",
   "nbconvert_exporter": "python",
   "pygments_lexer": "ipython3",
   "version": "3.8.3"
  }
 },
 "nbformat": 4,
 "nbformat_minor": 4
}
